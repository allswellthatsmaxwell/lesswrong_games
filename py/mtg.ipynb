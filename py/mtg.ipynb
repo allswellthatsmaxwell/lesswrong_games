{
 "cells": [
  {
   "cell_type": "code",
   "execution_count": 3,
   "id": "5a950588",
   "metadata": {},
   "outputs": [],
   "source": [
    "%load_ext autoreload\n",
    "%autoreload 2"
   ]
  },
  {
   "cell_type": "code",
   "execution_count": 23,
   "id": "f72bba13-f018-4ee2-8f1d-ed8dc6d7b9f8",
   "metadata": {},
   "outputs": [],
   "source": [
    "import pandas as pd\n",
    "import lightgbm as lgb\n",
    "\n",
    "import mtg"
   ]
  },
  {
   "cell_type": "code",
   "execution_count": 24,
   "id": "e82734f3",
   "metadata": {},
   "outputs": [],
   "source": [
    "past_games = mtg.PastGames()"
   ]
  },
  {
   "cell_type": "code",
   "execution_count": 26,
   "id": "cdd788d2-4166-43f3-bf7b-5175eb4020e2",
   "metadata": {},
   "outputs": [
    {
     "data": {
      "text/plain": [
       "['Alessin_Adamant_Angel',\n",
       " 'Bold_Battalion',\n",
       " 'Dreadwing_Darkfire_Dragon',\n",
       " 'Evil_Emperor_Eschatonus_Empyreal_Envoy_of_Entropic_End',\n",
       " 'Gentle_Guard',\n",
       " 'Horrible_Hooligan',\n",
       " 'Kindly_Knight',\n",
       " 'Lilac_Lotus',\n",
       " 'Murderous_Minotaur',\n",
       " 'Patchy_Pirate',\n",
       " 'Sword_of_Shadows',\n",
       " 'Virtuous_Vigilante']"
      ]
     },
     "execution_count": 26,
     "metadata": {},
     "output_type": "execute_result"
    }
   ],
   "source": [
    "past_games.cards"
   ]
  }
 ],
 "metadata": {
  "kernelspec": {
   "display_name": "Python 3 (ipykernel)",
   "language": "python",
   "name": "python3"
  },
  "language_info": {
   "codemirror_mode": {
    "name": "ipython",
    "version": 3
   },
   "file_extension": ".py",
   "mimetype": "text/x-python",
   "name": "python",
   "nbconvert_exporter": "python",
   "pygments_lexer": "ipython3",
   "version": "3.8.10"
  }
 },
 "nbformat": 4,
 "nbformat_minor": 5
}
